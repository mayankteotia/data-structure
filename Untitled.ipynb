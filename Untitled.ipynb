{
 "cells": [
  {
   "cell_type": "code",
   "execution_count": 1,
   "id": "1d0c0185-fbe2-468a-95b5-6ca8daaf9826",
   "metadata": {},
   "outputs": [
    {
     "name": "stdout",
     "output_type": "stream",
     "text": [
      "Original string: Hello, World!\n",
      "Reversed string: !dlroW ,olleH\n"
     ]
    }
   ],
   "source": [
    "#question 1 =>\n",
    "def reverse_string(s):\n",
    "    return s[::-1]\n",
    "\n",
    "# Example usage\n",
    "input_string = \"Hello, World!\"\n",
    "reversed_string = reverse_string(input_string)\n",
    "print(\"Original string:\", input_string)\n",
    "print(\"Reversed string:\", reversed_string)\n"
   ]
  },
  {
   "cell_type": "code",
   "execution_count": 2,
   "id": "83e8d87b-f22a-4f22-b5b8-b6d1dd837a85",
   "metadata": {},
   "outputs": [
    {
     "name": "stdout",
     "output_type": "stream",
     "text": [
      "Number of vowels in 'Hello, World!': 3\n"
     ]
    }
   ],
   "source": [
    "#questuin 2=>\n",
    "def count_vowels(s):\n",
    "    vowels = \"aeiouAEIOU\"\n",
    "    count = 0\n",
    "    for char in s:\n",
    "        if char in vowels:\n",
    "            count += 1\n",
    "    return count\n",
    "\n",
    "# Example usage\n",
    "input_string = \"Hello, World!\"\n",
    "vowel_count = count_vowels(input_string)\n",
    "print(\"Number of vowels in '{}': {}\".format(input_string, vowel_count))\n"
   ]
  },
  {
   "cell_type": "code",
   "execution_count": 3,
   "id": "2fc0d196-ce8f-4b1a-8cac-2dba1a7621cc",
   "metadata": {},
   "outputs": [
    {
     "name": "stdout",
     "output_type": "stream",
     "text": [
      "The string 'A man, a plan, a canal, Panama' is a palindrome: True\n"
     ]
    }
   ],
   "source": [
    "#question 3 ->\n",
    "def is_palindrome(s):\n",
    "\n",
    "    cleaned_string = ''.join(char.lower() for char in s if char.isalnum())\n",
    "  \n",
    "    return cleaned_string == cleaned_string[::-1]\n",
    "\n",
    "# Example usage\n",
    "input_string = \"A man, a plan, a canal, Panama\"\n",
    "result = is_palindrome(input_string)\n",
    "print(\"The string '{}' is a palindrome: {}\".format(input_string, result))\n"
   ]
  },
  {
   "cell_type": "code",
   "execution_count": 4,
   "id": "c2b8dee8-1000-4b1a-bb81-d1298d92c613",
   "metadata": {},
   "outputs": [
    {
     "name": "stdout",
     "output_type": "stream",
     "text": [
      "The strings 'Listen' and 'Silent' are anagrams: True\n"
     ]
    }
   ],
   "source": [
    "#question 4->\n",
    "def are_anagrams(s1, s2):\n",
    "    # Clean and sort both strings\n",
    "    cleaned_s1 = ''.join(sorted(s1.replace(' ', '').lower()))\n",
    "    cleaned_s2 = ''.join(sorted(s2.replace(' ', '').lower()))\n",
    "    \n",
    "    # Compare the cleaned and sorted versions of the strings\n",
    "    return cleaned_s1 == cleaned_s2\n",
    "\n",
    "# Example usage\n",
    "string1 = \"Listen\"\n",
    "string2 = \"Silent\"\n",
    "result = are_anagrams(string1, string2)\n",
    "print(\"The strings '{}' and '{}' are anagrams: {}\".format(string1, string2, result))\n"
   ]
  },
  {
   "cell_type": "code",
   "execution_count": 5,
   "id": "534ad1ba-d697-4d17-b0cc-054096a0c9c5",
   "metadata": {},
   "outputs": [
    {
     "name": "stdout",
     "output_type": "stream",
     "text": [
      "Occurrences of 'test' in 'This is a test string. This test is just a test.': [10, 28, 43]\n"
     ]
    }
   ],
   "source": [
    "#question 5->\n",
    "def find_all_occurrences(main_string, substring):\n",
    "    occurrences = []\n",
    "    start = 0\n",
    "    while True:\n",
    "        start = main_string.find(substring, start)\n",
    "        if start == -1:\n",
    "            break\n",
    "        occurrences.append(start)\n",
    "        start += 1  # Move past the last found substring\n",
    "    return occurrences\n",
    "\n",
    "# Example usage\n",
    "main_string = \"This is a test string. This test is just a test.\"\n",
    "substring = \"test\"\n",
    "result = find_all_occurrences(main_string, substring)\n",
    "print(\"Occurrences of '{}' in '{}': {}\".format(substring, main_string, result))\n"
   ]
  },
  {
   "cell_type": "code",
   "execution_count": 7,
   "id": "993dc6ab-4738-4412-86a3-4230708160dc",
   "metadata": {},
   "outputs": [],
   "source": [
    "#question 6->\n",
    "def compress_string(s):\n",
    "    if not s:\n",
    "        return \"\"\n",
    "    \n",
    "    compressed = []\n",
    "    count = 1\n",
    "    \n",
    "    for i in range(1, len(s)):\n",
    "        if s[i] == s[i - 1]:\n",
    "            count += 1\n",
    "        else:\n",
    "            compressed.append(s[i - 1] + str(count))\n",
    "            count = 1\n",
    "    \n",
    "    # Add the last group\n",
    "    compressed.append(s[-1] + str(count))\n",
    "    \n",
    "    # Join the compressed parts\n",
    "    compressed_string = ''.join(compressed)\n",
    "    \n",
    "    # Return the original string if compression does not reduce the size\n",
    "    return compressed_string if len(compressed_string) < len(s) else s\n",
    "\n",
    "# Example usage\n",
    "input_string = \"aaabbbccdde\"\n",
    "compressed_string = compress_string\n"
   ]
  },
  {
   "cell_type": "code",
   "execution_count": 8,
   "id": "0e08c703-b53f-46fa-b7ac-2a9d4e4e4dbf",
   "metadata": {},
   "outputs": [
    {
     "name": "stdout",
     "output_type": "stream",
     "text": [
      "The string 'abcdefg' has all unique characters: True\n"
     ]
    }
   ],
   "source": [
    "#question 7->\n",
    "def has_unique_characters(s):\n",
    "    # Use a set to track unique characters\n",
    "    char_set = set()\n",
    "    \n",
    "    for char in s:\n",
    "        if char in char_set:\n",
    "            return False\n",
    "        char_set.add(char)\n",
    "    \n",
    "    return True\n",
    "\n",
    "# Example usage\n",
    "input_string = \"abcdefg\"\n",
    "result = has_unique_characters(input_string)\n",
    "print(\"The string '{}' has all unique characters: {}\".format(input_string, result))\n"
   ]
  },
  {
   "cell_type": "code",
   "execution_count": 9,
   "id": "8c0baed3-5824-4e1e-83da-ff4cf2118723",
   "metadata": {},
   "outputs": [
    {
     "name": "stdout",
     "output_type": "stream",
     "text": [
      "Uppercase: HELLO, WORLD!\n",
      "Lowercase: hello, world!\n"
     ]
    }
   ],
   "source": [
    "#question 8->\n",
    "def convert_case(s, to_upper=True):\n",
    "    if to_upper:\n",
    "        return s.upper()\n",
    "    else:\n",
    "        return s.lower()\n",
    "\n",
    "# Example usage\n",
    "input_string = \"Hello, World!\"\n",
    "\n",
    "# Convert to uppercase\n",
    "upper_string = convert_case(input_string, to_upper=True)\n",
    "print(\"Uppercase:\", upper_string)\n",
    "\n",
    "# Convert to lowercase\n",
    "lower_string = convert_case(input_string, to_upper=False)\n",
    "print(\"Lowercase:\", lower_string)\n"
   ]
  },
  {
   "cell_type": "code",
   "execution_count": 10,
   "id": "59c945e4-864d-46c5-a198-acd31c35c8cf",
   "metadata": {},
   "outputs": [
    {
     "name": "stdout",
     "output_type": "stream",
     "text": [
      "Number of words in 'Hello, World! This is a test string.': 7\n"
     ]
    }
   ],
   "source": [
    "#question 9->\n",
    "def count_words(s):\n",
    "    # Split the string by whitespace to get words\n",
    "    words = s.split()\n",
    "    return len(words)\n",
    "\n",
    "# Example usage\n",
    "input_string = \"Hello, World! This is a test string.\"\n",
    "word_count = count_words(input_string)\n",
    "print(\"Number of words in '{}': {}\".format(input_string, word_count))\n"
   ]
  },
  {
   "cell_type": "code",
   "execution_count": 11,
   "id": "4d16c57c-09af-4fda-b8d0-19e08a6bf466",
   "metadata": {},
   "outputs": [
    {
     "name": "stdout",
     "output_type": "stream",
     "text": [
      "Concatenated string: Hello, World!\n"
     ]
    }
   ],
   "source": [
    "#question 10->\n",
    "def concatenate_strings(s1, s2):\n",
    "    return ''.join([s1, s2])\n",
    "\n",
    "# Example usage\n",
    "string1 = \"Hello, \"\n",
    "string2 = \"World!\"\n",
    "result = concatenate_strings(string1, string2)\n",
    "print(\"Concatenated string:\", result)\n"
   ]
  },
  {
   "cell_type": "code",
   "execution_count": 12,
   "id": "1e132b13-0aa5-4658-b849-a77e0632815e",
   "metadata": {},
   "outputs": [
    {
     "name": "stdout",
     "output_type": "stream",
     "text": [
      "Original list: [1, 2, 3, 4, 2, 5, 2]\n",
      "Updated list: [1, 3, 4, 5]\n"
     ]
    }
   ],
   "source": [
    "#question 11->\n",
    "def remove_occurrences(lst, element):\n",
    "    return [item for item in lst if item != element]\n",
    "\n",
    "# Example usage\n",
    "my_list = [1, 2, 3, 4, 2, 5, 2]\n",
    "element_to_remove = 2\n",
    "updated_list = remove_occurrences(my_list, element_to_remove)\n",
    "print(\"Original list:\", my_list)\n",
    "print(\"Updated list:\", updated_list)\n"
   ]
  },
  {
   "cell_type": "code",
   "execution_count": 13,
   "id": "00a973be-0b49-4814-b0c7-d64e30986bd2",
   "metadata": {},
   "outputs": [
    {
     "name": "stdout",
     "output_type": "stream",
     "text": [
      "The second largest number is: 45\n"
     ]
    }
   ],
   "source": [
    "#question 12->\n",
    "def find_second_largest(numbers):\n",
    "    if len(numbers) < 2:\n",
    "        raise ValueError(\"List must contain at least two distinct numbers.\")\n",
    "    \n",
    "    first = second = float('-inf')\n",
    "    \n",
    "    for number in numbers:\n",
    "        if number > first:\n",
    "            second = first\n",
    "            first = number\n",
    "        elif first > number > second:\n",
    "            second = number\n",
    "    \n",
    "    if second == float('-inf'):\n",
    "        raise ValueError(\"List must contain at least two distinct numbers.\")\n",
    "    \n",
    "    return second\n",
    "\n",
    "# Example usage\n",
    "numbers_list = [10, 20, 4, 45, 99, 99]\n",
    "second_largest = find_second_largest(numbers_list)\n",
    "print(\"The second largest number is:\", second_largest)\n"
   ]
  },
  {
   "cell_type": "code",
   "execution_count": 14,
   "id": "acb7ec8c-6700-4615-b4d4-4971aa44bca1",
   "metadata": {},
   "outputs": [
    {
     "name": "stdout",
     "output_type": "stream",
     "text": [
      "Occurrences of each element: {1: 2, 2: 3, 3: 1, 4: 3}\n"
     ]
    }
   ],
   "source": [
    "#question 13->\n",
    "def count_occurrences(lst):\n",
    "    counts = {}\n",
    "    for item in lst:\n",
    "        if item in counts:\n",
    "            counts[item] += 1\n",
    "        else:\n",
    "            counts[item] = 1\n",
    "    return counts\n",
    "\n",
    "# Example usage\n",
    "my_list = [1, 2, 3, 2, 4, 1, 2, 4, 4]\n",
    "occurrence_count = count_occurrences(my_list)\n",
    "print(\"Occurrences of each element:\", occurrence_count)\n"
   ]
  },
  {
   "cell_type": "code",
   "execution_count": 15,
   "id": "c077a96b-01d8-4888-99cf-a6b8fa49b62d",
   "metadata": {},
   "outputs": [
    {
     "name": "stdout",
     "output_type": "stream",
     "text": [
      "Occurrences of each element: {1: 2, 2: 3, 3: 1, 4: 3}\n"
     ]
    }
   ],
   "source": [
    "#question 14->\n",
    "def count_occurrences(lst):\n",
    "    counts = {}\n",
    "    for item in lst:\n",
    "        if item in counts:\n",
    "            counts[item] += 1\n",
    "        else:\n",
    "            counts[item] = 1\n",
    "    return counts\n",
    "\n",
    "# Example usage\n",
    "my_list = [1, 2, 3, 2, 4, 1, 2, 4, 4]\n",
    "occurrence_count = count_occurrences(my_list)\n",
    "print(\"Occurrences of each element:\", occurrence_count)\n"
   ]
  },
  {
   "cell_type": "code",
   "execution_count": 16,
   "id": "acedcfe5-e0be-4ea2-bcf3-b68914b7ca5a",
   "metadata": {},
   "outputs": [
    {
     "name": "stdout",
     "output_type": "stream",
     "text": [
      "List with duplicates removed: [1, 2, 3, 4, 5]\n"
     ]
    }
   ],
   "source": [
    "#question 15->\n",
    "def remove_duplicates(lst):\n",
    "    seen = set()\n",
    "    result = []\n",
    "    for item in lst:\n",
    "        if item not in seen:\n",
    "            result.append(item)\n",
    "            seen.add(item)\n",
    "    return result\n",
    "\n",
    "# Example usage\n",
    "my_list = [1, 2, 3, 2, 4, 1, 2, 4, 5]\n",
    "unique_list = remove_duplicates(my_list)\n",
    "print(\"List with duplicates removed:\", unique_list)\n"
   ]
  },
  {
   "cell_type": "code",
   "execution_count": 17,
   "id": "3246aa44-e526-408f-91ca-305da7f47b76",
   "metadata": {},
   "outputs": [
    {
     "name": "stdout",
     "output_type": "stream",
     "text": [
      "The list is sorted: True\n",
      "The list is sorted: True\n",
      "The list is sorted: False\n"
     ]
    }
   ],
   "source": [
    "#question 16->\n",
    "def is_sorted(lst):\n",
    "    # Check if the list is sorted in ascending order\n",
    "    ascending = all(lst[i] <= lst[i + 1] for i in range(len(lst) - 1))\n",
    "    # Check if the list is sorted in descending order\n",
    "    descending = all(lst[i] >= lst[i + 1] for i in range(len(lst) - 1))\n",
    "    \n",
    "    return ascending or descending\n",
    "\n",
    "# Example usage\n",
    "my_list = [1, 2, 3, 4, 5]\n",
    "result = is_sorted(my_list)\n",
    "print(\"The list is sorted:\", result)\n",
    "\n",
    "my_list_desc = [5, 4, 3, 2, 1]\n",
    "result_desc = is_sorted(my_list_desc)\n",
    "print(\"The list is sorted:\", result_desc)\n",
    "\n",
    "my_list_unsorted = [1, 3, 2, 4, 5]\n",
    "result_unsorted = is_sorted(my_list_unsorted)\n",
    "print(\"The list is sorted:\", result_unsorted)\n"
   ]
  },
  {
   "cell_type": "code",
   "execution_count": 18,
   "id": "770f7e48-f22c-4c31-87fc-371961059330",
   "metadata": {},
   "outputs": [
    {
     "name": "stdout",
     "output_type": "stream",
     "text": [
      "Merged sorted list: [1, 2, 3, 4, 5, 6, 7, 8]\n"
     ]
    }
   ],
   "source": [
    "#wuestion 17->\n",
    "def merge_sorted_lists(list1, list2):\n",
    "    merged_list = []\n",
    "    i = j = 0\n",
    "    \n",
    "    # Merge the two lists\n",
    "    while i < len(list1) and j < len(list2):\n",
    "        if list1[i] <= list2[j]:\n",
    "            merged_list.append(list1[i])\n",
    "            i += 1\n",
    "        else:\n",
    "            merged_list.append(list2[j])\n",
    "            j += 1\n",
    "    \n",
    "    # Append any remaining elements from list1\n",
    "    while i < len(list1):\n",
    "        merged_list.append(list1[i])\n",
    "        i += 1\n",
    "    \n",
    "    # Append any remaining elements from list2\n",
    "    while j < len(list2):\n",
    "        merged_list.append(list2[j])\n",
    "        j += 1\n",
    "    \n",
    "    return merged_list\n",
    "\n",
    "# Example usage\n",
    "list1 = [1, 3, 5, 7]\n",
    "list2 = [2, 4, 6, 8]\n",
    "merged_list = merge_sorted_lists(list1, list2)\n",
    "print(\"Merged sorted list:\", merged_list)\n"
   ]
  },
  {
   "cell_type": "code",
   "execution_count": 19,
   "id": "ac74577d-f503-4ab8-953c-00dbc514f317",
   "metadata": {},
   "outputs": [
    {
     "name": "stdout",
     "output_type": "stream",
     "text": [
      "Intersection of the lists: [4, 5]\n"
     ]
    }
   ],
   "source": [
    "#question 18->\n",
    "def intersection_of_lists(list1, list2):\n",
    "    # Convert lists to sets to find intersection\n",
    "    set1 = set(list1)\n",
    "    set2 = set(list2)\n",
    "    \n",
    "    # Find intersection\n",
    "    intersection = set1 & set2\n",
    "    \n",
    "    # Convert the result back to a list\n",
    "    return list(intersection)\n",
    "\n",
    "# Example usage\n",
    "list1 = [1, 2, 3, 4, 5]\n",
    "list2 = [4, 5, 6, 7, 8]\n",
    "intersection = intersection_of_lists(list1, list2)\n",
    "print(\"Intersection of the lists:\", intersection)\n"
   ]
  },
  {
   "cell_type": "code",
   "execution_count": 20,
   "id": "b2032136-4993-4c7a-b30f-6061da9f7e11",
   "metadata": {},
   "outputs": [
    {
     "name": "stdout",
     "output_type": "stream",
     "text": [
      "Union of the lists: [1, 2, 3, 4, 5, 6, 7, 8]\n"
     ]
    }
   ],
   "source": [
    "#question 19->\n",
    "def union_of_lists(list1, list2):\n",
    "    # Convert lists to sets to remove duplicates and find the union\n",
    "    set1 = set(list1)\n",
    "    set2 = set(list2)\n",
    "    \n",
    "    # Find union\n",
    "    union = set1 | set2\n",
    "    \n",
    "    # Convert the result back to a list\n",
    "    return list(union)\n",
    "\n",
    "# Example usage\n",
    "list1 = [1, 2, 3, 4, 5]\n",
    "list2 = [4, 5, 6, 7, 8]\n",
    "union = union_of_lists(list1, list2)\n",
    "print(\"Union of the lists:\", union)\n"
   ]
  },
  {
   "cell_type": "code",
   "execution_count": 21,
   "id": "22594472-bef7-4115-af15-e621902f5cad",
   "metadata": {},
   "outputs": [
    {
     "name": "stdout",
     "output_type": "stream",
     "text": [
      "Original list: [1, 2, 3, 4, 5]\n",
      "Shuffled list: [5, 3, 1, 2, 4]\n"
     ]
    }
   ],
   "source": [
    "#question 20->\n",
    "import random\n",
    "\n",
    "def shuffle_list(lst):\n",
    "    # Create a copy of the list to avoid modifying the original list\n",
    "    shuffled_list = lst[:]\n",
    "    n = len(shuffled_list)\n",
    "    \n",
    "    # Perform the Fisher-Yates shuffle algorithm\n",
    "    for i in range(n - 1, 0, -1):\n",
    "        j = random.randint(0, i)\n",
    "        # Swap the elements\n",
    "        shuffled_list[i], shuffled_list[j] = shuffled_list[j], shuffled_list[i]\n",
    "    \n",
    "    return shuffled_list\n",
    "\n",
    "# Example usage\n",
    "original_list = [1, 2, 3, 4, 5]\n",
    "shuffled = shuffle_list(original_list)\n",
    "print(\"Original list:\", original_list)\n",
    "print(\"Shuffled list:\", shuffled)\n"
   ]
  },
  {
   "cell_type": "code",
   "execution_count": 22,
   "id": "a71f5b89-fac2-4926-bdf9-3b578bb7b1aa",
   "metadata": {},
   "outputs": [
    {
     "name": "stdout",
     "output_type": "stream",
     "text": [
      "Common elements: (4, 5)\n"
     ]
    }
   ],
   "source": [
    "#question 21->\n",
    "def common_elements(tuple1, tuple2):\n",
    "    # Convert tuples to sets to find intersection\n",
    "    set1 = set(tuple1)\n",
    "    set2 = set(tuple2)\n",
    "    \n",
    "    # Find intersection\n",
    "    common = set1 & set2\n",
    "    \n",
    "    # Convert the result back to a tuple\n",
    "    return tuple(common)\n",
    "\n",
    "# Example usage\n",
    "tuple1 = (1, 2, 3, 4, 5)\n",
    "tuple2 = (4, 5, 6, 7, 8)\n",
    "common_tuple = common_elements(tuple1, tuple2)\n",
    "print(\"Common elements:\", common_tuple)\n"
   ]
  },
  {
   "cell_type": "code",
   "execution_count": 23,
   "id": "ddadfe5c-6fb7-4025-92ef-efd6dd349496",
   "metadata": {},
   "outputs": [
    {
     "name": "stdout",
     "output_type": "stream",
     "text": [
      "Enter the first set of integers separated by commas:\n"
     ]
    },
    {
     "name": "stdin",
     "output_type": "stream",
     "text": [
      "First set:  1,2,5\n"
     ]
    },
    {
     "name": "stdout",
     "output_type": "stream",
     "text": [
      "Enter the second set of integers separated by commas:\n"
     ]
    },
    {
     "name": "stdin",
     "output_type": "stream",
     "text": [
      "Second set:  4,5,6\n"
     ]
    },
    {
     "name": "stdout",
     "output_type": "stream",
     "text": [
      "Intersection of the two sets: {5}\n"
     ]
    }
   ],
   "source": [
    "#question 22->.\n",
    "def get_set_from_input(prompt):\n",
    "    # Prompt the user for input\n",
    "    user_input = input(prompt)\n",
    "    # Convert the input string to a list of integers\n",
    "    number_list = [int(x.strip()) for x in user_input.split(',') if x.strip().isdigit()]\n",
    "    # Convert the list to a set\n",
    "    return set(number_list)\n",
    "\n",
    "def main():\n",
    "    print(\"Enter the first set of integers separated by commas:\")\n",
    "    set1 = get_set_from_input(\"First set: \")\n",
    "    \n",
    "    print(\"Enter the second set of integers separated by commas:\")\n",
    "    set2 = get_set_from_input(\"Second set: \")\n",
    "    \n",
    "    # Find the intersection of the two sets\n",
    "    intersection = set1 & set2\n",
    "    \n",
    "    # Print the result\n",
    "    print(\"Intersection of the two sets:\", intersection)\n",
    "\n",
    "if __name__ == \"__main__\":\n",
    "    main()\n"
   ]
  },
  {
   "cell_type": "code",
   "execution_count": 24,
   "id": "bf07ec63-d850-4905-ba53-c9490da4ccb9",
   "metadata": {},
   "outputs": [
    {
     "name": "stdout",
     "output_type": "stream",
     "text": [
      "Concatenated tuple: (1, 2, 3, 4, 5, 6)\n"
     ]
    }
   ],
   "source": [
    "#question 23->\n",
    "def concatenate_tuples(tuple1, tuple2):\n",
    "    # Concatenate the two tuples\n",
    "    return tuple1 + tuple2\n",
    "\n",
    "# Example usage\n",
    "tuple1 = (1, 2, 3)\n",
    "tuple2 = (4, 5, 6)\n",
    "result = concatenate_tuples(tuple1, tuple2)\n",
    "print(\"Concatenated tuple:\", result)\n"
   ]
  },
  {
   "cell_type": "code",
   "execution_count": 25,
   "id": "9daa64b6-781a-4a9e-a26d-0f479e5dc6d1",
   "metadata": {},
   "outputs": [
    {
     "name": "stdout",
     "output_type": "stream",
     "text": [
      "Enter the first set of strings separated by commas:\n"
     ]
    },
    {
     "name": "stdin",
     "output_type": "stream",
     "text": [
      "First set:  \n"
     ]
    },
    {
     "name": "stdout",
     "output_type": "stream",
     "text": [
      "Enter the second set of strings separated by commas:\n"
     ]
    },
    {
     "name": "stdin",
     "output_type": "stream",
     "text": [
      "Second set:  \n"
     ]
    },
    {
     "name": "stdout",
     "output_type": "stream",
     "text": [
      "Elements in the first set but not in the second set: set()\n"
     ]
    }
   ],
   "source": [
    "#question 24->\n",
    "def get_set_from_input(prompt):\n",
    "    # Prompt the user for input\n",
    "    user_input = input(prompt)\n",
    "    # Convert the input string to a list of strings\n",
    "    string_list = [x.strip() for x in user_input.split(',')]\n",
    "    # Convert the list to a set\n",
    "    return set(string_list)\n",
    "\n",
    "def main():\n",
    "    print(\"Enter the first set of strings separated by commas:\")\n",
    "    set1 = get_set_from_input(\"First set: \")\n",
    "    \n",
    "    print(\"Enter the second set of strings separated by commas:\")\n",
    "    set2 = get_set_from_input(\"Second set: \")\n",
    "    \n",
    "    # Find the elements that are in the first set but not in the second set\n",
    "    difference = set1 - set2\n",
    "    \n",
    "    # Print the result\n",
    "    print(\"Elements in the first set but not in the second set:\", difference)\n",
    "\n",
    "if __name__ == \"__main__\":\n",
    "    main()\n",
    "\n",
    "    \n",
    "    "
   ]
  },
  {
   "cell_type": "code",
   "execution_count": 26,
   "id": "3d1ba640-200e-4fbb-9fb8-92e8f565dca4",
   "metadata": {},
   "outputs": [
    {
     "name": "stdin",
     "output_type": "stream",
     "text": [
      "Enter the start index:  5457\n",
      "Enter the end index:  455\n"
     ]
    },
    {
     "name": "stdout",
     "output_type": "stream",
     "text": [
      "Invalid range of indices.\n"
     ]
    }
   ],
   "source": [
    "#question 25->\n",
    "def slice_tuple(tpl, start, end):\n",
    "    # Check if indices are within the valid range\n",
    "    if start < 0 or end > len(tpl) or start > end:\n",
    "        raise ValueError(\"Invalid range of indices.\")\n",
    "    \n",
    "    # Return the new tuple containing elements within the specified range\n",
    "    return tpl[start:end]\n",
    "\n",
    "# Example usage\n",
    "original_tuple = (10, 20, 30, 40, 50, 60, 70)\n",
    "start_index = int(input(\"Enter the start index: \"))\n",
    "end_index = int(input(\"Enter the end index: \"))\n",
    "\n",
    "try:\n",
    "    sliced_tuple = slice_tuple(original_tuple, start_index, end_index)\n",
    "    print(\"Sliced tuple:\", sliced_tuple)\n",
    "except ValueError as e:\n",
    "    print(e)\n"
   ]
  },
  {
   "cell_type": "code",
   "execution_count": 27,
   "id": "239bcce6-0b71-4303-bc22-766ffbbeae14",
   "metadata": {},
   "outputs": [
    {
     "name": "stdout",
     "output_type": "stream",
     "text": [
      "Enter the first set of characters:\n"
     ]
    },
    {
     "name": "stdin",
     "output_type": "stream",
     "text": [
      "First set:  cha\n"
     ]
    },
    {
     "name": "stdout",
     "output_type": "stream",
     "text": [
      "Enter the second set of characters:\n"
     ]
    },
    {
     "name": "stdin",
     "output_type": "stream",
     "text": [
      "Second set:  chs\n"
     ]
    },
    {
     "name": "stdout",
     "output_type": "stream",
     "text": [
      "Union of the two sets: {'s', 'h', 'a', 'c'}\n"
     ]
    }
   ],
   "source": [
    "#question 26->\n",
    "def get_set_from_input(prompt):\n",
    "    # Prompt the user for input\n",
    "    user_input = input(prompt)\n",
    "    # Convert the input string to a set of characters\n",
    "    char_set = set(user_input.replace(' ', ''))  # Remove any spaces and create a set\n",
    "    return char_set\n",
    "\n",
    "def main():\n",
    "    print(\"Enter the first set of characters:\")\n",
    "    set1 = get_set_from_input(\"First set: \")\n",
    "    \n",
    "    print(\"Enter the second set of characters:\")\n",
    "    set2 = get_set_from_input(\"Second set: \")\n",
    "    \n",
    "    # Find the union of the two sets\n",
    "    union = set1 | set2\n",
    "    \n",
    "    # Print the result\n",
    "    print(\"Union of the two sets:\", union)\n",
    "\n",
    "if __name__ == \"__main__\":\n",
    "    main()\n",
    "\n",
    "    "
   ]
  },
  {
   "cell_type": "code",
   "execution_count": 29,
   "id": "a3fe0e76-bf98-46ca-a0ba-9b79120dbabb",
   "metadata": {},
   "outputs": [
    {
     "name": "stdin",
     "output_type": "stream",
     "text": [
      "Enter integers separated by commas:  2,5\n"
     ]
    },
    {
     "name": "stdout",
     "output_type": "stream",
     "text": [
      "Maximum value: 2\n",
      "Minimum value: 5\n"
     ]
    }
   ],
   "source": [
    "#question27=>\n",
    "def find_max_min(tpl):\n",
    "    if not tpl:\n",
    "        raise ValueError(\"The tuple is empty.\")\n",
    "    \n",
    "    # Unpack the tuple into individual elements\n",
    "    *_, max_value, min_value = sorted(tpl)\n",
    "    \n",
    "    return max_value, min_value\n",
    "\n",
    "# Example usage\n",
    "input_tuple = tuple(map(int, input(\"Enter integers separated by commas: \").split(',')))\n",
    "\n",
    "try:\n",
    "    max_val, min_val = find_max_min(input_tuple)\n",
    "    print(\"Maximum value:\", max_val)\n",
    "    print(\"Minimum value:\", min_val)\n",
    "except ValueError as e:\n",
    "    print(e)\n",
    "\n",
    "    \n",
    "    \n",
    "    \n",
    "    \n",
    "    "
   ]
  },
  {
   "cell_type": "code",
   "execution_count": 30,
   "id": "5c63485f-95ed-476e-b631-3d889b7d780f",
   "metadata": {},
   "outputs": [
    {
     "name": "stdout",
     "output_type": "stream",
     "text": [
      "Enter the first set of integers separated by commas:\n"
     ]
    },
    {
     "name": "stdin",
     "output_type": "stream",
     "text": [
      "First set:  5,5\n"
     ]
    },
    {
     "name": "stdout",
     "output_type": "stream",
     "text": [
      "Enter the second set of integers separated by commas:\n"
     ]
    },
    {
     "name": "stdin",
     "output_type": "stream",
     "text": [
      "Second set:  4,2\n"
     ]
    },
    {
     "name": "stdout",
     "output_type": "stream",
     "text": [
      "Union of the two sets: {2, 4, 5}\n",
      "Intersection of the two sets: set()\n",
      "Difference (elements in the first set but not in the second set): {5}\n"
     ]
    }
   ],
   "source": [
    "#question 28->\n",
    "def get_set_from_input(prompt):\n",
    "    # Prompt the user for input and convert it to a set of integers\n",
    "    user_input = input(prompt)\n",
    "    int_set = set(map(int, user_input.split(',')))\n",
    "    return int_set\n",
    "\n",
    "def main():\n",
    "    print(\"Enter the first set of integers separated by commas:\")\n",
    "    set1 = get_set_from_input(\"First set: \")\n",
    "    \n",
    "    print(\"Enter the second set of integers separated by commas:\")\n",
    "    set2 = get_set_from_input(\"Second set: \")\n",
    "    \n",
    "    # Calculate union, intersection, and difference\n",
    "    union = set1 | set2\n",
    "    intersection = set1 & set2\n",
    "    difference = set1 - set2\n",
    "    \n",
    "    # Print results\n",
    "    print(\"Union of the two sets:\", union)\n",
    "    print(\"Intersection of the two sets:\", intersection)\n",
    "    print(\"Difference (elements in the first set but not in the second set):\", difference)\n",
    "\n",
    "if __name__ == \"__main__\":\n",
    "    main()\n"
   ]
  },
  {
   "cell_type": "code",
   "execution_count": 31,
   "id": "d38ede0e-18cd-47ff-b49e-7b83ab3260dc",
   "metadata": {},
   "outputs": [
    {
     "name": "stdin",
     "output_type": "stream",
     "text": [
      "Enter integers separated by commas:  4,5\n",
      "Enter the element to count:  7,5\n"
     ]
    },
    {
     "ename": "ValueError",
     "evalue": "invalid literal for int() with base 10: '7,5'",
     "output_type": "error",
     "traceback": [
      "\u001b[0;31m---------------------------------------------------------------------------\u001b[0m",
      "\u001b[0;31mValueError\u001b[0m                                Traceback (most recent call last)",
      "Cell \u001b[0;32mIn[31], line 8\u001b[0m\n\u001b[1;32m      6\u001b[0m \u001b[38;5;66;03m# Example usage\u001b[39;00m\n\u001b[1;32m      7\u001b[0m input_tuple \u001b[38;5;241m=\u001b[39m \u001b[38;5;28mtuple\u001b[39m(\u001b[38;5;28mmap\u001b[39m(\u001b[38;5;28mint\u001b[39m, \u001b[38;5;28minput\u001b[39m(\u001b[38;5;124m\"\u001b[39m\u001b[38;5;124mEnter integers separated by commas: \u001b[39m\u001b[38;5;124m\"\u001b[39m)\u001b[38;5;241m.\u001b[39msplit(\u001b[38;5;124m'\u001b[39m\u001b[38;5;124m,\u001b[39m\u001b[38;5;124m'\u001b[39m)))\n\u001b[0;32m----> 8\u001b[0m element \u001b[38;5;241m=\u001b[39m \u001b[38;5;28;43mint\u001b[39;49m\u001b[43m(\u001b[49m\u001b[38;5;28;43minput\u001b[39;49m\u001b[43m(\u001b[49m\u001b[38;5;124;43m\"\u001b[39;49m\u001b[38;5;124;43mEnter the element to count: \u001b[39;49m\u001b[38;5;124;43m\"\u001b[39;49m\u001b[43m)\u001b[49m\u001b[43m)\u001b[49m\n\u001b[1;32m     10\u001b[0m \u001b[38;5;66;03m# Get the count of occurrences\u001b[39;00m\n\u001b[1;32m     11\u001b[0m count \u001b[38;5;241m=\u001b[39m count_occurrences(input_tuple, element)\n",
      "\u001b[0;31mValueError\u001b[0m: invalid literal for int() with base 10: '7,5'"
     ]
    }
   ],
   "source": [
    "#question 29->\n",
    "def count_occurrences(tpl, element):\n",
    "    # Count the occurrences of the element in the tuple\n",
    "    return tpl.count(element)\n",
    "\n",
    "# Example usage\n",
    "input_tuple = tuple(map(int, input(\"Enter integers separated by commas: \").split(',')))\n",
    "element = int(input(\"Enter the element to count: \"))\n",
    "\n",
    "# Get the count of occurrences\n",
    "count = count_occurrences(input_tuple, element)\n",
    "print(f\"Count of {element} in the tuple: {count}\")\n",
    "\n"
   ]
  },
  {
   "cell_type": "code",
   "execution_count": 32,
   "id": "b555b456-52c9-4a76-8273-e571833e4e2a",
   "metadata": {},
   "outputs": [
    {
     "name": "stdout",
     "output_type": "stream",
     "text": [
      "Enter the first set of strings separated by commas:\n"
     ]
    },
    {
     "name": "stdin",
     "output_type": "stream",
     "text": [
      "First set:  k,j\n"
     ]
    },
    {
     "name": "stdout",
     "output_type": "stream",
     "text": [
      "Enter the second set of strings separated by commas:\n"
     ]
    },
    {
     "name": "stdin",
     "output_type": "stream",
     "text": [
      "Second set:  p,l\n"
     ]
    },
    {
     "name": "stdout",
     "output_type": "stream",
     "text": [
      "Symmetric difference of the two sets: {'l', 'k', 'p', 'j'}\n"
     ]
    }
   ],
   "source": [
    "#question 30->\n",
    "def get_set_from_input(prompt):\n",
    "    # Prompt the user for input and convert it to a set of strings\n",
    "    user_input = input(prompt)\n",
    "    # Create a set of strings from the user input\n",
    "    str_set = set(user_input.split(','))\n",
    "    return str_set\n",
    "\n",
    "def main():\n",
    "    print(\"Enter the first set of strings separated by commas:\")\n",
    "    set1 = get_set_from_input(\"First set: \")\n",
    "    \n",
    "    print(\"Enter the second set of strings separated by commas:\")\n",
    "    set2 = get_set_from_input(\"Second set: \")\n",
    "    \n",
    "    # Calculate the symmetric difference of the two sets\n",
    "    symmetric_difference = set1 ^ set2\n",
    "    \n",
    "    # Print the result\n",
    "    print(\"Symmetric difference of the two sets:\", symmetric_difference)\n",
    "\n",
    "if __name__ == \"__main__\":\n",
    "    main()\n"
   ]
  },
  {
   "cell_type": "code",
   "execution_count": 33,
   "id": "15ccebc2-6135-4b24-b7fd-a7b419d6a739",
   "metadata": {},
   "outputs": [
    {
     "name": "stdin",
     "output_type": "stream",
     "text": [
      "Enter a list of words separated by spaces:  h,k\n"
     ]
    },
    {
     "name": "stdout",
     "output_type": "stream",
     "text": [
      "Word frequencies: {'h,k': 1}\n"
     ]
    }
   ],
   "source": [
    "#question 31->\n",
    "def count_word_frequencies(word_list):\n",
    "    # Create a dictionary to store the frequency of each word\n",
    "    frequency_dict = {}\n",
    "    for word in word_list:\n",
    "        if word in frequency_dict:\n",
    "            frequency_dict[word] += 1\n",
    "        else:\n",
    "            frequency_dict[word] = 1\n",
    "    return frequency_dict\n",
    "\n",
    "def main():\n",
    "    # Prompt the user for a list of words\n",
    "    input_words = input(\"Enter a list of words separated by spaces: \")\n",
    "    # Convert the input string into a list of words\n",
    "    word_list = input_words.split()\n",
    "    \n",
    "    # Get the frequency dictionary\n",
    "    frequency_dict = count_word_frequencies(word_list)\n",
    "    \n",
    "    # Print the result\n",
    "    print(\"Word frequencies:\", frequency_dict)\n",
    "\n",
    "if __name__ == \"__main__\":\n",
    "    main()\n"
   ]
  },
  {
   "cell_type": "code",
   "execution_count": 34,
   "id": "2bb7be12-b97d-457a-9f07-b15b9cd8b777",
   "metadata": {},
   "outputs": [
    {
     "name": "stdin",
     "output_type": "stream",
     "text": [
      "Enter the first dictionary (e.g., {'a': 1, 'b': 2}):  hjjbjb\n"
     ]
    },
    {
     "ename": "ValueError",
     "evalue": "malformed node or string on line 1: <ast.Name object at 0x7f084472cd60>",
     "output_type": "error",
     "traceback": [
      "\u001b[0;31m---------------------------------------------------------------------------\u001b[0m",
      "\u001b[0;31mValueError\u001b[0m                                Traceback (most recent call last)",
      "Cell \u001b[0;32mIn[34], line 34\u001b[0m\n\u001b[1;32m     31\u001b[0m     \u001b[38;5;28mprint\u001b[39m(\u001b[38;5;124m\"\u001b[39m\u001b[38;5;124mMerged dictionary:\u001b[39m\u001b[38;5;124m\"\u001b[39m, merged_dict)\n\u001b[1;32m     33\u001b[0m \u001b[38;5;28;01mif\u001b[39;00m \u001b[38;5;18m__name__\u001b[39m \u001b[38;5;241m==\u001b[39m \u001b[38;5;124m\"\u001b[39m\u001b[38;5;124m__main__\u001b[39m\u001b[38;5;124m\"\u001b[39m:\n\u001b[0;32m---> 34\u001b[0m     \u001b[43mmain\u001b[49m\u001b[43m(\u001b[49m\u001b[43m)\u001b[49m\n",
      "Cell \u001b[0;32mIn[34], line 21\u001b[0m, in \u001b[0;36mmain\u001b[0;34m()\u001b[0m\n\u001b[1;32m     19\u001b[0m \u001b[38;5;66;03m# Prompt the user to input the first dictionary\u001b[39;00m\n\u001b[1;32m     20\u001b[0m dict1_input \u001b[38;5;241m=\u001b[39m \u001b[38;5;28minput\u001b[39m(\u001b[38;5;124m\"\u001b[39m\u001b[38;5;124mEnter the first dictionary (e.g., \u001b[39m\u001b[38;5;124m{\u001b[39m\u001b[38;5;124m'\u001b[39m\u001b[38;5;124ma\u001b[39m\u001b[38;5;124m'\u001b[39m\u001b[38;5;124m: 1, \u001b[39m\u001b[38;5;124m'\u001b[39m\u001b[38;5;124mb\u001b[39m\u001b[38;5;124m'\u001b[39m\u001b[38;5;124m: 2}): \u001b[39m\u001b[38;5;124m\"\u001b[39m)\n\u001b[0;32m---> 21\u001b[0m dict1 \u001b[38;5;241m=\u001b[39m \u001b[43mast\u001b[49m\u001b[38;5;241;43m.\u001b[39;49m\u001b[43mliteral_eval\u001b[49m\u001b[43m(\u001b[49m\u001b[43mdict1_input\u001b[49m\u001b[43m)\u001b[49m\n\u001b[1;32m     23\u001b[0m \u001b[38;5;66;03m# Prompt the user to input the second dictionary\u001b[39;00m\n\u001b[1;32m     24\u001b[0m dict2_input \u001b[38;5;241m=\u001b[39m \u001b[38;5;28minput\u001b[39m(\u001b[38;5;124m\"\u001b[39m\u001b[38;5;124mEnter the second dictionary (e.g., \u001b[39m\u001b[38;5;124m{\u001b[39m\u001b[38;5;124m'\u001b[39m\u001b[38;5;124mb\u001b[39m\u001b[38;5;124m'\u001b[39m\u001b[38;5;124m: 3, \u001b[39m\u001b[38;5;124m'\u001b[39m\u001b[38;5;124mc\u001b[39m\u001b[38;5;124m'\u001b[39m\u001b[38;5;124m: 4}): \u001b[39m\u001b[38;5;124m\"\u001b[39m)\n",
      "File \u001b[0;32m/opt/conda/lib/python3.10/ast.py:110\u001b[0m, in \u001b[0;36mliteral_eval\u001b[0;34m(node_or_string)\u001b[0m\n\u001b[1;32m    108\u001b[0m                 \u001b[38;5;28;01mreturn\u001b[39;00m left \u001b[38;5;241m-\u001b[39m right\n\u001b[1;32m    109\u001b[0m     \u001b[38;5;28;01mreturn\u001b[39;00m _convert_signed_num(node)\n\u001b[0;32m--> 110\u001b[0m \u001b[38;5;28;01mreturn\u001b[39;00m \u001b[43m_convert\u001b[49m\u001b[43m(\u001b[49m\u001b[43mnode_or_string\u001b[49m\u001b[43m)\u001b[49m\n",
      "File \u001b[0;32m/opt/conda/lib/python3.10/ast.py:109\u001b[0m, in \u001b[0;36mliteral_eval.<locals>._convert\u001b[0;34m(node)\u001b[0m\n\u001b[1;32m    107\u001b[0m         \u001b[38;5;28;01melse\u001b[39;00m:\n\u001b[1;32m    108\u001b[0m             \u001b[38;5;28;01mreturn\u001b[39;00m left \u001b[38;5;241m-\u001b[39m right\n\u001b[0;32m--> 109\u001b[0m \u001b[38;5;28;01mreturn\u001b[39;00m \u001b[43m_convert_signed_num\u001b[49m\u001b[43m(\u001b[49m\u001b[43mnode\u001b[49m\u001b[43m)\u001b[49m\n",
      "File \u001b[0;32m/opt/conda/lib/python3.10/ast.py:83\u001b[0m, in \u001b[0;36mliteral_eval.<locals>._convert_signed_num\u001b[0;34m(node)\u001b[0m\n\u001b[1;32m     81\u001b[0m     \u001b[38;5;28;01melse\u001b[39;00m:\n\u001b[1;32m     82\u001b[0m         \u001b[38;5;28;01mreturn\u001b[39;00m \u001b[38;5;241m-\u001b[39m operand\n\u001b[0;32m---> 83\u001b[0m \u001b[38;5;28;01mreturn\u001b[39;00m \u001b[43m_convert_num\u001b[49m\u001b[43m(\u001b[49m\u001b[43mnode\u001b[49m\u001b[43m)\u001b[49m\n",
      "File \u001b[0;32m/opt/conda/lib/python3.10/ast.py:74\u001b[0m, in \u001b[0;36mliteral_eval.<locals>._convert_num\u001b[0;34m(node)\u001b[0m\n\u001b[1;32m     72\u001b[0m \u001b[38;5;28;01mdef\u001b[39;00m \u001b[38;5;21m_convert_num\u001b[39m(node):\n\u001b[1;32m     73\u001b[0m     \u001b[38;5;28;01mif\u001b[39;00m \u001b[38;5;129;01mnot\u001b[39;00m \u001b[38;5;28misinstance\u001b[39m(node, Constant) \u001b[38;5;129;01mor\u001b[39;00m \u001b[38;5;28mtype\u001b[39m(node\u001b[38;5;241m.\u001b[39mvalue) \u001b[38;5;129;01mnot\u001b[39;00m \u001b[38;5;129;01min\u001b[39;00m (\u001b[38;5;28mint\u001b[39m, \u001b[38;5;28mfloat\u001b[39m, \u001b[38;5;28mcomplex\u001b[39m):\n\u001b[0;32m---> 74\u001b[0m         \u001b[43m_raise_malformed_node\u001b[49m\u001b[43m(\u001b[49m\u001b[43mnode\u001b[49m\u001b[43m)\u001b[49m\n\u001b[1;32m     75\u001b[0m     \u001b[38;5;28;01mreturn\u001b[39;00m node\u001b[38;5;241m.\u001b[39mvalue\n",
      "File \u001b[0;32m/opt/conda/lib/python3.10/ast.py:71\u001b[0m, in \u001b[0;36mliteral_eval.<locals>._raise_malformed_node\u001b[0;34m(node)\u001b[0m\n\u001b[1;32m     69\u001b[0m \u001b[38;5;28;01mif\u001b[39;00m lno \u001b[38;5;241m:=\u001b[39m \u001b[38;5;28mgetattr\u001b[39m(node, \u001b[38;5;124m'\u001b[39m\u001b[38;5;124mlineno\u001b[39m\u001b[38;5;124m'\u001b[39m, \u001b[38;5;28;01mNone\u001b[39;00m):\n\u001b[1;32m     70\u001b[0m     msg \u001b[38;5;241m+\u001b[39m\u001b[38;5;241m=\u001b[39m \u001b[38;5;124mf\u001b[39m\u001b[38;5;124m'\u001b[39m\u001b[38;5;124m on line \u001b[39m\u001b[38;5;132;01m{\u001b[39;00mlno\u001b[38;5;132;01m}\u001b[39;00m\u001b[38;5;124m'\u001b[39m\n\u001b[0;32m---> 71\u001b[0m \u001b[38;5;28;01mraise\u001b[39;00m \u001b[38;5;167;01mValueError\u001b[39;00m(msg \u001b[38;5;241m+\u001b[39m \u001b[38;5;124mf\u001b[39m\u001b[38;5;124m'\u001b[39m\u001b[38;5;124m: \u001b[39m\u001b[38;5;132;01m{\u001b[39;00mnode\u001b[38;5;132;01m!r}\u001b[39;00m\u001b[38;5;124m'\u001b[39m)\n",
      "\u001b[0;31mValueError\u001b[0m: malformed node or string on line 1: <ast.Name object at 0x7f084472cd60>"
     ]
    }
   ],
   "source": [
    "#question 32->\n",
    "def merge_dicts(dict1, dict2):\n",
    "    # Create a new dictionary to store the merged result\n",
    "    merged_dict = dict(dict1)  # Start with a copy of dict1\n",
    "    \n",
    "    for key, value in dict2.items():\n",
    "        if key in merged_dict:\n",
    "            # If the key is common, add the values together\n",
    "            merged_dict[key] += value\n",
    "        else:\n",
    "            # If the key is not in merged_dict, add it\n",
    "            merged_dict[key] = value\n",
    "    \n",
    "    return merged_dict\n",
    "\n",
    "def main():\n",
    "    import ast\n",
    "    \n",
    "    # Prompt the user to input the first dictionary\n",
    "    dict1_input = input(\"Enter the first dictionary (e.g., {'a': 1, 'b': 2}): \")\n",
    "    dict1 = ast.literal_eval(dict1_input)\n",
    "    \n",
    "    # Prompt the user to input the second dictionary\n",
    "    dict2_input = input(\"Enter the second dictionary (e.g., {'b': 3, 'c': 4}): \")\n",
    "    dict2 = ast.literal_eval(dict2_input)\n",
    "    \n",
    "    # Merge the dictionaries\n",
    "    merged_dict = merge_dicts(dict1, dict2)\n",
    "    \n",
    "    # Print the result\n",
    "    print(\"Merged dictionary:\", merged_dict)\n",
    "\n",
    "if __name__ == \"__main__\":\n",
    "    main()\n"
   ]
  },
  {
   "cell_type": "code",
   "execution_count": 35,
   "id": "9754aa7f-b824-4f24-b09c-d6f83b5af3b5",
   "metadata": {},
   "outputs": [
    {
     "name": "stdin",
     "output_type": "stream",
     "text": [
      "Enter the dictionary (e.g., {'a': 1, 'b': 2}):  a:1\n"
     ]
    },
    {
     "ename": "SyntaxError",
     "evalue": "invalid syntax (<unknown>, line 1)",
     "output_type": "error",
     "traceback": [
      "Traceback \u001b[0;36m(most recent call last)\u001b[0m:\n",
      "\u001b[0m  File \u001b[1;32m/opt/conda/lib/python3.10/site-packages/IPython/core/interactiveshell.py:3433\u001b[0m in \u001b[1;35mrun_code\u001b[0m\n    exec(code_obj, self.user_global_ns, self.user_ns)\u001b[0m\n",
      "\u001b[0m  Cell \u001b[1;32mIn[35], line 30\u001b[0m\n    main()\u001b[0m\n",
      "\u001b[0m  Cell \u001b[1;32mIn[35], line 17\u001b[0m in \u001b[1;35mmain\u001b[0m\n    dictionary = ast.literal_eval(dict_input)\u001b[0m\n",
      "\u001b[0m  File \u001b[1;32m/opt/conda/lib/python3.10/ast.py:64\u001b[0m in \u001b[1;35mliteral_eval\u001b[0m\n    node_or_string = parse(node_or_string.lstrip(\" \\t\"), mode='eval')\u001b[0m\n",
      "\u001b[0;36m  File \u001b[0;32m/opt/conda/lib/python3.10/ast.py:50\u001b[0;36m in \u001b[0;35mparse\u001b[0;36m\n\u001b[0;31m    return compile(source, filename, mode, flags,\u001b[0;36m\n",
      "\u001b[0;36m  File \u001b[0;32m<unknown>:1\u001b[0;36m\u001b[0m\n\u001b[0;31m    a:1\u001b[0m\n\u001b[0m     ^\u001b[0m\n\u001b[0;31mSyntaxError\u001b[0m\u001b[0;31m:\u001b[0m invalid syntax\n"
     ]
    }
   ],
   "source": [
    "#question 33->\n",
    "def get_values_from_dict(dictionary, keys):\n",
    "    # Create a list to store the values for the given keys\n",
    "    values = []\n",
    "    \n",
    "    for key in keys:\n",
    "        # Append the value if the key exists, otherwise append None\n",
    "        values.append(dictionary.get(key, None))\n",
    "    \n",
    "    return values\n",
    "\n",
    "def main():\n",
    "    import ast\n",
    "    \n",
    "    # Prompt the user to input the dictionary\n",
    "    dict_input = input(\"Enter the dictionary (e.g., {'a': 1, 'b': 2}): \")\n",
    "    dictionary = ast.literal_eval(dict_input)\n",
    "    \n",
    "    # Prompt the user to input the list of keys\n",
    "    keys_input = input(\"Enter the list of keys separated by commas (e.g., a,b): \")\n",
    "    keys = [key.strip() for key in keys_input.split(',')]\n",
    "    \n",
    "    # Get the values from the dictionary\n",
    "    values = get_values_from_dict(dictionary, keys)\n",
    "    \n",
    "    # Print the result\n",
    "    print(\"Corresponding values:\", values)\n",
    "\n",
    "if __name__ == \"__main__\":\n",
    "    main()\n"
   ]
  },
  {
   "cell_type": "code",
   "execution_count": 36,
   "id": "a02d9abe-0e26-4211-a948-d8cd0e6ebcfc",
   "metadata": {},
   "outputs": [],
   "source": [
    "#question 34->\n",
    "def sort_dict_by_values(dictionary, order='ascending'):\n",
    "    # Sort the dictionary by values\n",
    "    sorted_items = sorted(dictionary.items(), key=lambda item: item[1], reverse=(order == 'descending'))\n",
    "    # Convert the sorted items back into a dictionary\n",
    "    sorted_dict = dict(sorted_items)\n",
    "    return sorted_dict\n",
    "\n",
    "def main():\n",
    "    import ast\n",
    "    \n",
    "    # Prompt the user to input the dictionary\n",
    "    dict_input = input(\"Enter the dictionary (e.g., {'a': 1, 'b': 2}): \")\n",
    "    dictionary = ast.literal_eval(dict_input)\n",
    "    \n",
    "    # Prompt the user to choose the sort order\n",
    "    order = input(\"Enter the sort order (ascending or descending): \").strip().lower()\n",
    "    \n",
    "    if order not in ['ascending', 'descending']:\n",
    "        print(\"Invalid sort order. Please enter 'ascending' or 'descending'.\")\n",
    "        return\n",
    "    \n",
    "    # Get the sorted dictionary\n",
    "    sorted_dict = sort_dict_by_values(dictionary, order)\n",
    "    \n",
    "    # Print the sorted dictionary\n",
    "    print(f\"Sorted dictionary ({order}):\", sorted_dict)\n",
    "\n",
    "if __name__ == \"__main__\":\n",
    "    main()\n"
   ]
  },
  {
   "cell_type": "code",
   "execution_count": null,
   "id": "96042f8a-00f6-455c-a727-441f77024e49",
   "metadata": {},
   "outputs": [],
   "source": [
    "#question 35->\n",
    "def invert_dict(dictionary):\n",
    "    inverted_dict = {}\n",
    "    \n",
    "    for key, value in dictionary.items():\n",
    "        if value in inverted_dict:\n",
    "            # If the value already exists in the inverted_dict, append the key to the list\n",
    "            inverted_dict[value].append(key)\n",
    "        else:\n",
    "            # Otherwise, create a new list with the key\n",
    "            inverted_dict[value] = [key]\n",
    "    \n",
    "    return inverted_dict\n",
    "\n",
    "def main():\n",
    "    import ast\n",
    "    \n",
    "    # Prompt the user to input the dictionary\n",
    "    dict_input = input(\"Enter the dictionary (e.g., {'a': 1, 'b': 2}): \")\n",
    "    dictionary = ast.literal_eval(dict_input)\n",
    "    \n",
    "    # Invert the dictionary\n",
    "    inverted_dict = invert_dict(dictionary)\n",
    "    \n",
    "    # Print the inverted dictionary\n",
    "    print(\"Inverted dictionary:\", inverted_dict)\n",
    "\n",
    "if __name__ == \"__main__\":\n",
    "    main()\n"
   ]
  }
 ],
 "metadata": {
  "kernelspec": {
   "display_name": "Python 3 (ipykernel)",
   "language": "python",
   "name": "python3"
  },
  "language_info": {
   "codemirror_mode": {
    "name": "ipython",
    "version": 3
   },
   "file_extension": ".py",
   "mimetype": "text/x-python",
   "name": "python",
   "nbconvert_exporter": "python",
   "pygments_lexer": "ipython3",
   "version": "3.10.8"
  }
 },
 "nbformat": 4,
 "nbformat_minor": 5
}
